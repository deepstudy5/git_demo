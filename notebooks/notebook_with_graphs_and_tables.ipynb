{
 "cells": [
  {
   "cell_type": "code",
   "execution_count": null,
   "id": "e7c6e279",
   "metadata": {},
   "outputs": [],
   "source": [
    "! pip install pandas_datareader"
   ]
  },
  {
   "cell_type": "code",
   "execution_count": null,
   "id": "48e14d07",
   "metadata": {},
   "outputs": [],
   "source": [
    "import plotly.express as px\n",
    "import pandas as pd\n",
    "\n",
    "import pandas_datareader as pdr"
   ]
  },
  {
   "cell_type": "code",
   "execution_count": null,
   "id": "251789b9",
   "metadata": {},
   "outputs": [],
   "source": [
    "# reads 5-years of 10-year constant maturity yields on U.S. government bonds.\n",
    "df = pdr.get_data_fred('GS10')\n",
    "df = df[:100]\n",
    "df[:10]"
   ]
  },
  {
   "cell_type": "code",
   "execution_count": null,
   "id": "0101fc67",
   "metadata": {},
   "outputs": [],
   "source": [
    "df.index.dtype, df.dtypes"
   ]
  },
  {
   "cell_type": "code",
   "execution_count": null,
   "id": "55e2864e",
   "metadata": {},
   "outputs": [],
   "source": [
    "df['GS10'].plot()"
   ]
  },
  {
   "cell_type": "code",
   "execution_count": null,
   "id": "0e1fac4b",
   "metadata": {},
   "outputs": [],
   "source": [
    "px.line(df)"
   ]
  },
  {
   "cell_type": "code",
   "execution_count": null,
   "id": "5a75b6d8",
   "metadata": {},
   "outputs": [],
   "source": []
  }
 ],
 "metadata": {
  "kernelspec": {
   "display_name": "Python 3 (ipykernel)",
   "language": "python",
   "name": "python3"
  },
  "language_info": {
   "codemirror_mode": {
    "name": "ipython",
    "version": 3
   },
   "file_extension": ".py",
   "mimetype": "text/x-python",
   "name": "python",
   "nbconvert_exporter": "python",
   "pygments_lexer": "ipython3",
   "version": "3.9.6"
  }
 },
 "nbformat": 4,
 "nbformat_minor": 5
}
